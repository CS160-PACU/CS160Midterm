{
 "cells": [
  {
   "cell_type": "code",
   "execution_count": null,
   "id": "f30d2b77-272b-4a2a-a2a9-2a0f420d699c",
   "metadata": {},
   "outputs": [],
   "source": [
    "# write your name here (2 pts)\n",
    "\n",
    "# 100 points total\n",
    "# you may assume all user input is valid"
   ]
  },
  {
   "cell_type": "code",
   "execution_count": null,
   "id": "1f5547f6-ce2a-4edc-b022-8e729dc5a556",
   "metadata": {},
   "outputs": [],
   "source": [
    "# sum the integers 1 and 2 and print the result (4 pts)\n"
   ]
  },
  {
   "cell_type": "code",
   "execution_count": null,
   "id": "6a941dc1-423d-4350-99ca-b55d138cc575",
   "metadata": {},
   "outputs": [],
   "source": [
    "# ask the user for their first name (4 pts)\n",
    "# and print \"Hello, name!\""
   ]
  },
  {
   "cell_type": "code",
   "execution_count": null,
   "id": "f9eb0171-b959-440f-bb47-47184b074a9a",
   "metadata": {},
   "outputs": [],
   "source": [
    "# save your work to GitHub after you complete each cell!"
   ]
  },
  {
   "cell_type": "code",
   "execution_count": null,
   "id": "07acde6b-855b-44c4-8c98-91c7057b2314",
   "metadata": {},
   "outputs": [],
   "source": [
    "# read an expression from the user of the form\n",
    "# x + y = z\n",
    "# (Note, the the user will only enter + for an operator)\n",
    "#\n",
    "# Display to the screen:\n",
    "# z = y + x : Valid\n",
    "# where Valid is either True or False to \n",
    "# indicate if the expression is correct\n",
    "#\n",
    "# for example:\n",
    "# 3 = 1 + 2 : True\n",
    "# 9 = 1 + 2 : False\n",
    "\n",
    "# 20 pts\n"
   ]
  },
  {
   "cell_type": "code",
   "execution_count": null,
   "id": "fb149bb0-8f39-404e-b4f7-935612f20f2b",
   "metadata": {},
   "outputs": [],
   "source": [
    "# download the file\n",
    "# http://zeus.cs.pacificu.edu/chadd/cs160_midterm.txt\n",
    "# \n",
    "# Display to the screen how many times X appears in the file.\n",
    "# Display to the screen how many lines X appears in\n",
    "# Display to the screen how many lines X does not appear in\n",
    "# Display to the screen how many words begin with X\n",
    "\n",
    "# for example:\n",
    "# X appears 100 times\n",
    "# X is in 16 lines\n",
    "# X is not in 20 lines\n",
    "# X begins 13 words\n",
    "\n",
    "# 19 pts\n"
   ]
  },
  {
   "cell_type": "code",
   "execution_count": null,
   "id": "074e0f6f-0a1d-4a01-b847-32dbe123b5cf",
   "metadata": {},
   "outputs": [],
   "source": [
    "# use the list below\n",
    "theList = ['Strain', 'Scott', 'Price']\n",
    "\n",
    "# 4 pts\n",
    "\n",
    "# Iterate over the list and print each item to the screen, one item per line\n",
    "\n",
    "\n"
   ]
  },
  {
   "cell_type": "code",
   "execution_count": null,
   "id": "227a13a2-dbfa-4b8c-907e-60796aef6b48",
   "metadata": {},
   "outputs": [],
   "source": [
    "# use the list below\n",
    "theOtherList = ['Strain', 'Scott', 'Price']\n",
    "\n",
    "# 8 pts\n",
    "\n",
    "# add the item 'Marsh' between Strain and Scott\n",
    "# add the item 'UC' to the end of the list\n",
    "# add the item 1849 as the first item in the list\n",
    "\n",
    "# remove Price from the list\n",
    "\n",
    "# leave this print statement as the last line in the cell\n",
    "print(theOtherList)"
   ]
  },
  {
   "cell_type": "code",
   "execution_count": null,
   "id": "9343f182-e6e0-4522-84b3-6d2be804f645",
   "metadata": {},
   "outputs": [],
   "source": [
    "# use a list comprehension to build a list of the first 100 even integers starting with 0\n",
    "\n",
    "# 8 pts\n",
    "\n",
    "# use a slice to create a new list that contains every third value in the list starting with the first entry and ending at the 50th entry\n",
    "# For example: 0, 6, 12...\n",
    "# print this list to the screen\n",
    "\n"
   ]
  },
  {
   "cell_type": "code",
   "execution_count": null,
   "id": "18ae212c-eb75-46c8-9992-3be3a857f356",
   "metadata": {},
   "outputs": [],
   "source": [
    "# Use the dictionary created below\n",
    "theData = {}\n",
    "\n",
    "# 10 pts\n",
    "\n",
    "# add the key, value pair: 'Scott 204', 'cs160'\n",
    "# add the key, value pair: 'Strain 222', 'csLab'\n",
    "\n",
    "# iterate through all of the values in the dictionary and print them on the screen, one per line\n",
    "\n",
    "# iterate through all of the keys in the dictionary and print them on the screen, one per line\n",
    "\n"
   ]
  },
  {
   "cell_type": "code",
   "execution_count": null,
   "id": "6e8fd0ef-3681-4484-b8b8-d0b477e29ac3",
   "metadata": {},
   "outputs": [],
   "source": [
    "# Download the file:\n",
    "# http://zeus.cs.pacificu.edu/chadd/cs160_midterm_wordList.txt\n",
    "# Count how many times each word in that file appears in the\n",
    "# previously downloaded file http://zeus.cs.pacificu.edu/chadd/cs160_midterm.txt\n",
    "#\n",
    "# Display to the screen the total words in cs160_midterm.txt followed\n",
    "# by how many times each word in the word list appears.\n",
    "# For example:\n",
    "#   Total words 24\n",
    "#   Hello 2\n",
    "#   Bye 2\n",
    "\n",
    "# 21 pts\n"
   ]
  },
  {
   "cell_type": "code",
   "execution_count": null,
   "id": "eda4d7a4-30b1-4cfe-a9fb-48c68d339b3c",
   "metadata": {},
   "outputs": [],
   "source": [
    "# tag this commit in git with the tag: EXAM_DONE"
   ]
  },
  {
   "cell_type": "code",
   "execution_count": null,
   "id": "29192c9f-5c40-4165-8697-6e419ad12c17",
   "metadata": {},
   "outputs": [],
   "source": [
    "# push your tag to GitHub"
   ]
  },
  {
   "cell_type": "code",
   "execution_count": null,
   "id": "3aa1e1fa-8d31-4110-9a32-2609b335b38d",
   "metadata": {},
   "outputs": [],
   "source": [
    "# Print this notebook to a PDF and submit to Moodle"
   ]
  }
 ],
 "metadata": {
  "kernelspec": {
   "display_name": "Python 3 (ipykernel)",
   "language": "python",
   "name": "python3"
  },
  "language_info": {
   "codemirror_mode": {
    "name": "ipython",
    "version": 3
   },
   "file_extension": ".py",
   "mimetype": "text/x-python",
   "name": "python",
   "nbconvert_exporter": "python",
   "pygments_lexer": "ipython3",
   "version": "3.10.1"
  }
 },
 "nbformat": 4,
 "nbformat_minor": 5
}
